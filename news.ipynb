{
 "cells": [
  {
   "cell_type": "code",
   "id": "initial_id",
   "metadata": {
    "collapsed": true,
    "ExecuteTime": {
     "end_time": "2025-09-03T11:16:48.620784Z",
     "start_time": "2025-09-03T11:16:48.468266Z"
    }
   },
   "source": [
    "\n",
    "\n",
    "from datasets import load_dataset\n",
    "from pathlib import Path\n",
    "\n",
    "base_dir = Path('malayalam_news')\n",
    "path_malayalam_news= base_dir / 'malayalam_news.py'\n",
    "\n",
    "dataset = load_dataset(str(path_malayalam_news), \"malayalam_news\")\n",
    "print(dataset)\n"
   ],
   "outputs": [
    {
     "name": "stderr",
     "output_type": "stream",
     "text": [
      "E:\\MalayalamFakeNewsProject\\.venv\\Lib\\site-packages\\datasets\\load.py:929: FutureWarning: The repository for malayalam_news contains custom code which must be executed to correctly load the dataset. You can inspect the repository content at malayalam_news\\malayalam_news.py\n",
      "You can avoid this message in future by passing the argument `trust_remote_code=True`.\n",
      "Passing `trust_remote_code=True` will be mandatory to load this dataset from the next major release of `datasets`.\n",
      "  warnings.warn(\n",
      "Repo card metadata block was not found. Setting CardData to empty.\n"
     ]
    },
    {
     "name": "stdout",
     "output_type": "stream",
     "text": [
      "DatasetDict({\n",
      "    train: Dataset({\n",
      "        features: ['text', 'label'],\n",
      "        num_rows: 4800\n",
      "    })\n",
      "    validation: Dataset({\n",
      "        features: ['text', 'label'],\n",
      "        num_rows: 600\n",
      "    })\n",
      "    test: Dataset({\n",
      "        features: ['text', 'label'],\n",
      "        num_rows: 600\n",
      "    })\n",
      "})\n"
     ]
    }
   ],
   "execution_count": 2
  },
  {
   "metadata": {
    "ExecuteTime": {
     "end_time": "2025-09-03T14:08:05.140642Z",
     "start_time": "2025-09-03T14:08:05.124669Z"
    }
   },
   "cell_type": "code",
   "source": "print(dataset[\"train\"][0]['text'])",
   "id": "f16d5163339240d8",
   "outputs": [
    {
     "name": "stdout",
     "output_type": "stream",
     "text": [
      "മത്സര പ്രതിഫലമായി സ്വന്തമാക്കിയത് പതിനേഴ് ദശലക്ഷം ഡോളർ . ബാക്കി തുകയത്രയും പരസ്യ വരുമാനത്തിലൂടെ സ്വന്തമാക്കിയതാണ് . ബോൾട്ടിനോളം വിപണിമൂല്യമുള്ള മറ്റൊരു അത്ലറ്റില്ല . ഇതുകൊണ്ടു തന്നെയാണ് ബോൾട്ട് ലോകത്തെ ഏറ്റവും വരുമാനമുള്ള 100 കായിക താരങ്ങളുടെ പട്ടികയിലെ ഏക അത്ലറ്റായത് . പട്ടികയിൽ ഇരുപത്തിമൂന്നാം സ്ഥാനത്താണ് ജമൈക്കൻ ഇതിഹാസം . വിരമിച്ചതിന് ശേഷം ഫുട്ബോളിൽ സജീവമാകാൻ ഒരുങ്ങുന്ന വേഗരാജാവ് ഉസൈൻ ബോൾട്ട് ഫൌണ്ടേഷനും തുടക്കമിട്ടുകഴിഞ്ഞു . പാവപ്പെട്ട കുട്ടികളുടെ വിദ്യാഭ്യാസത്തിനാണ് ഫൌണ്ടേഷൻ പ്രധാനമായും സഹായിക്കുക . എട്ട് ഒളിംപിക് സ്വർണത്തിന് ഉടമയായ ബോൾട്ടിന്റെ പേരിലാണ് 100,200 മീറ്ററുകളിലെ ലോകറെക്കോർഡ് .\n"
     ]
    }
   ],
   "execution_count": 7
  },
  {
   "metadata": {},
   "cell_type": "code",
   "outputs": [],
   "execution_count": null,
   "source": "",
   "id": "3b14d611f232b10c"
  }
 ],
 "metadata": {
  "kernelspec": {
   "display_name": "Python 3",
   "language": "python",
   "name": "python3"
  },
  "language_info": {
   "codemirror_mode": {
    "name": "ipython",
    "version": 2
   },
   "file_extension": ".py",
   "mimetype": "text/x-python",
   "name": "python",
   "nbconvert_exporter": "python",
   "pygments_lexer": "ipython2",
   "version": "2.7.6"
  }
 },
 "nbformat": 4,
 "nbformat_minor": 5
}
